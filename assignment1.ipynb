{
 "cells": [
  {
   "cell_type": "code",
   "execution_count": 3,
   "metadata": {},
   "outputs": [
    {
     "name": "stdout",
     "output_type": "stream",
     "text": [
      "Requirement already satisfied: pyspark in /Library/Frameworks/Python.framework/Versions/3.12/lib/python3.12/site-packages (3.5.0)\n",
      "Requirement already satisfied: py4j==0.10.9.7 in /Library/Frameworks/Python.framework/Versions/3.12/lib/python3.12/site-packages (from pyspark) (0.10.9.7)\n",
      "\n",
      "\u001b[1m[\u001b[0m\u001b[34;49mnotice\u001b[0m\u001b[1;39;49m]\u001b[0m\u001b[39;49m A new release of pip is available: \u001b[0m\u001b[31;49m24.0\u001b[0m\u001b[39;49m -> \u001b[0m\u001b[32;49m24.1.2\u001b[0m\n",
      "\u001b[1m[\u001b[0m\u001b[34;49mnotice\u001b[0m\u001b[1;39;49m]\u001b[0m\u001b[39;49m To update, run: \u001b[0m\u001b[32;49mpip install --upgrade pip\u001b[0m\n",
      "Note: you may need to restart the kernel to use updated packages.\n"
     ]
    }
   ],
   "source": [
    "pip install pyspark"
   ]
  },
  {
   "cell_type": "code",
   "execution_count": 34,
   "metadata": {},
   "outputs": [
    {
     "name": "stdout",
     "output_type": "stream",
     "text": [
      "spark success\n"
     ]
    }
   ],
   "source": [
    "#initiate spark instance \n",
    "import pyspark\n",
    "from pyspark.sql.functions import col\n",
    "from pyspark.sql import SparkSession\n",
    "#Create SparkSession\n",
    "spark = SparkSession.builder \\\n",
    "    .master(\"local\") \\\n",
    "    .appName(\"SparkApp\") \\\n",
    "    .getOrCreate()\n",
    "\n",
    "#spark.stop()\n",
    "print(\"spark success\")"
   ]
  },
  {
   "cell_type": "code",
   "execution_count": 2,
   "metadata": {},
   "outputs": [
    {
     "name": "stdout",
     "output_type": "stream",
     "text": [
      "Current Working Directory: /Users/ruiiyoung/Downloads/MacAir2016_Desktop/IT stuff DIY +所有自己上的课/U St Andrews Data Science PGDip/5939data-driven system/assignment1/SparkA1\n"
     ]
    }
   ],
   "source": [
    "#print current directory\n",
    "import os\n",
    "\n",
    "# Get the current working directory\n",
    "current_directory = os.getcwd()\n",
    "\n",
    "# Print the current working directory\n",
    "print(f\"Current Working Directory: {current_directory}\")\n"
   ]
  },
  {
   "cell_type": "code",
   "execution_count": 4,
   "metadata": {},
   "outputs": [
    {
     "name": "stderr",
     "output_type": "stream",
     "text": [
      "24/07/17 18:03:45 WARN GarbageCollectionMetrics: To enable non-built-in garbage collector(s) List(G1 Concurrent GC), users should configure it(them) to spark.eventLog.gcMetrics.youngGenerationGarbageCollectors or spark.eventLog.gcMetrics.oldGenerationGarbageCollectors\n",
      "                                                                                \r"
     ]
    },
    {
     "data": {
      "text/plain": [
       "StructType([StructField('IncidentNumber', StringType(), True), StructField('DateOfCall', StringType(), True), StructField('CalYear', IntegerType(), True), StructField('TimeOfCall', TimestampType(), True), StructField('HourOfCall', IntegerType(), True), StructField('IncidentGroup', StringType(), True), StructField('StopCodeDescription', StringType(), True), StructField('SpecialServiceType', StringType(), True), StructField('PropertyCategory', StringType(), True), StructField('PropertyType', StringType(), True), StructField('AddressQualifier', StringType(), True), StructField('Postcode_full', StringType(), True), StructField('Postcode_district', StringType(), True), StructField('UPRN', DoubleType(), True), StructField('USRN', IntegerType(), True), StructField('IncGeo_BoroughCode', StringType(), True), StructField('IncGeo_BoroughName', StringType(), True), StructField('ProperCase', StringType(), True), StructField('IncGeo_WardCode', StringType(), True), StructField('IncGeo_WardName', StringType(), True), StructField('IncGeo_WardNameNew', StringType(), True), StructField('Easting_m', IntegerType(), True), StructField('Northing_m', IntegerType(), True), StructField('Easting_rounded', IntegerType(), True), StructField('Northing_rounded', IntegerType(), True), StructField('Latitude', DoubleType(), True), StructField('Longitude', DoubleType(), True), StructField('FRS', StringType(), True), StructField('IncidentStationGround', StringType(), True), StructField('FirstPumpArriving_AttendanceTime', IntegerType(), True), StructField('FirstPumpArriving_DeployedFromStation', StringType(), True), StructField('SecondPumpArriving_AttendanceTime', IntegerType(), True), StructField('SecondPumpArriving_DeployedFromStation', StringType(), True), StructField('NumStationsWithPumpsAttending', IntegerType(), True), StructField('NumPumpsAttending', IntegerType(), True), StructField('PumpCount', IntegerType(), True), StructField('PumpHoursRoundUp', IntegerType(), True), StructField('Notional Cost (£)', IntegerType(), True), StructField('NumCalls', IntegerType(), True)])"
      ]
     },
     "metadata": {},
     "output_type": "display_data"
    }
   ],
   "source": [
    "#part 1:1.load all csv in this same path\n",
    "df= spark.read.format(\"csv\").option(\"header\", True).option(\"inferSchema\", True).load(\"/Users/ruiiyoung/Downloads/MacAir2016_Desktop/IT stuff DIY +所有自己上的课/U St Andrews Data Science PGDip/5939data-driven system/assignment1/lab_dataset.csv\")\n",
    "#df.show()\n",
    "display(df.schema) "
   ]
  },
  {
   "cell_type": "code",
   "execution_count": 74,
   "metadata": {},
   "outputs": [
    {
     "name": "stdout",
     "output_type": "stream",
     "text": [
      "+------------+------------------------+\n",
      "|Borough Name|Total number of callouts|\n",
      "+------------+------------------------+\n",
      "|HARROW      |2176                    |\n",
      "+------------+------------------------+\n",
      "\n"
     ]
    }
   ],
   "source": [
    "#part1:2 Allow the user to search the dataset by the borough name, showing the total number of callouts in 2020.\n",
    "# Filter the DataFrame to include only data for the year 2020\n",
    "from pyspark.sql.functions import levenshtein\n",
    "\n",
    "\n",
    "df_2020 = df.filter(col('CalYear') == 2020)\n",
    "# Group the data by 'IncGeo_BoroughName' and sum the 'NumbCalls' column\n",
    "df_Borough_call = df_2020.groupBy('IncGeo_BoroughName').sum('NumCalls')\n",
    "df_Borough_call = df_Borough_call.withColumnRenamed('IncGeo_BoroughName', 'Borough Name')\\\n",
    "                                 .withColumnRenamed('sum(NumCalls)', 'Total number of callouts')\n",
    "\n",
    "#df_Borough_call.show(n=33, truncate=False)\n",
    "# Function to search by borough name\n",
    "def search_borough():\n",
    "    borough_name = input(\"Enter the borough name: \").strip().upper()\n",
    "    #give error if input is not letters\n",
    "    if not borough_name.isalpha():\n",
    "        print (\"Borough name should be a string.\")\n",
    "        return\n",
    "    try:\n",
    "        result = df_Borough_call.filter(col('Borough Name') == borough_name)\n",
    "        # give error if the borough name is not in the dataset\n",
    "        if result.count() == 0:\n",
    "            # Calculate Levenshtein distance for each borough name\n",
    "            distances = df_Borough_call.withColumn('distance', levenshtein(upper(col('Borough Name')), lit(borough_name)))\n",
    "            \n",
    "            # Find the closest match based on minimum distance\n",
    "            closest_match = distances.select('Borough Name', 'distance').orderBy('distance').first()\n",
    "            closest_borough_name = closest_match['Borough Name']\n",
    "\n",
    "            \n",
    "            print(f\"No exact match found for '{borough_name}'. Did you mean '{closest_borough_name}'? \")\n",
    "       \n",
    "        else:\n",
    "            result.show(truncate=False)\n",
    "    \n",
    "    except Exception as e:\n",
    "        print(f\"Error: {e}\")\n",
    "# Call the function to take user input and display the result\n",
    "search_borough()"
   ]
  },
  {
   "cell_type": "code",
   "execution_count": 6,
   "metadata": {},
   "outputs": [
    {
     "name": "stdout",
     "output_type": "stream",
     "text": [
      "+---------------+-----------+-------+-------------------+----------+---------------+-------------------+--------------------+-----------------+--------------------+--------------------+-------------+-----------------+---------------+--------+------------------+--------------------+--------------------+---------------+-------------------+-------------------+---------+----------+---------------+----------------+-----------+------------+------+---------------------+--------------------------------+-------------------------------------+---------------------------------+--------------------------------------+-----------------------------+-----------------+---------+----------------+-----------------+--------+\n",
      "| IncidentNumber| DateOfCall|CalYear|         TimeOfCall|HourOfCall|  IncidentGroup|StopCodeDescription|  SpecialServiceType| PropertyCategory|        PropertyType|    AddressQualifier|Postcode_full|Postcode_district|           UPRN|    USRN|IncGeo_BoroughCode|  IncGeo_BoroughName|          ProperCase|IncGeo_WardCode|    IncGeo_WardName| IncGeo_WardNameNew|Easting_m|Northing_m|Easting_rounded|Northing_rounded|   Latitude|   Longitude|   FRS|IncidentStationGround|FirstPumpArriving_AttendanceTime|FirstPumpArriving_DeployedFromStation|SecondPumpArriving_AttendanceTime|SecondPumpArriving_DeployedFromStation|NumStationsWithPumpsAttending|NumPumpsAttending|PumpCount|PumpHoursRoundUp|Notional Cost (£)|NumCalls|\n",
      "+---------------+-----------+-------+-------------------+----------+---------------+-------------------+--------------------+-----------------+--------------------+--------------------+-------------+-----------------+---------------+--------+------------------+--------------------+--------------------+---------------+-------------------+-------------------+---------+----------+---------------+----------------+-----------+------------+------+---------------------+--------------------------------+-------------------------------------+---------------------------------+--------------------------------------+-----------------------------+-----------------+---------+----------------+-----------------+--------+\n",
      "|000069-01012020|01 Jan 2020|   2020|2024-07-17 01:01:40|         1|           Fire|     Secondary Fire|                NULL|          Outdoor|Road surface/pave...|In street outside...|      RM5 3UH|              RM5|     1.00021E11|21301149|         E09000016|            HAVERING|            Havering|      E05013974|Havering-atte-Bower|Havering-atte-Bower|   550735|    191228|         550750|          191250|51.59973536| 0.175023174|London|              Romford|                             381|                              Romford|                             NULL|                                  NULL|                            1|                1|        1|               1|              339|       1|\n",
      "|000070-01012020|01 Jan 2020|   2020|2024-07-17 01:01:48|         1|           Fire|     Secondary Fire|                NULL|          Outdoor|Cycle path/public...|In street outside...|       E8 4QS|               E8|1.0008349521E10|20900067|         E09000012|             HACKNEY|             Hackney|      E05009381|      LONDON FIELDS|      LONDON FIELDS|   534638|    183510|         534650|          183550|51.53444908|-0.060195764|London|        Bethnal Green|                             311|                        Bethnal Green|                             NULL|                                  NULL|                            1|                1|        1|               1|              339|       1|\n",
      "|000071-01012020|01 Jan 2020|   2020|2024-07-17 01:06:27|         1|Special Service|    Special Service|        Lift Release|         Dwelling|Purpose Built Fla...|Correct incident ...|         NULL|              RM6|            0.0|19900165|         E09000002|BARKING AND DAGENHAM|Barking And dagenham|      E05014071|          Whalebone|          Whalebone|     NULL|      NULL|         548350|          188050|       NULL|        NULL|London|             Dagenham|                            NULL|                                 NULL|                             NULL|                                  NULL|                            1|                1|        1|               1|              339|       1|\n",
      "|000072-01012020|01 Jan 2020|   2020|2024-07-17 01:06:41|         1|Special Service|    Special Service|        Lift Release|         Dwelling|Purpose Built Fla...|Correct incident ...|         NULL|              SE1|            0.0|22502089|         E09000028|           SOUTHWARK|           Southwark|      E05011098|            CHAUCER|            CHAUCER|     NULL|      NULL|         532350|          179150|       NULL|        NULL|London|              Dowgate|                            NULL|                                 NULL|                             NULL|                                  NULL|                            1|                1|        1|               1|              339|       1|\n",
      "|000073-01012020|01 Jan 2020|   2020|2024-07-17 01:07:13|         1|           Fire|     Secondary Fire|                NULL|Outdoor Structure|      Pipe or drain |In street outside...|      IG3 8DU|              IG3|1.0023192032E10|22302189|         E09000026|           REDBRIDGE|           Redbridge|      E05011244|          GOODMAYES|          GOODMAYES|   545776|    186980|         545750|          186950|51.56286554| 0.101713089|London|               Ilford|                             245|                               Ilford|                             NULL|                                  NULL|                            1|                1|        1|               1|              339|       1|\n",
      "|000078-01012020|01 Jan 2020|   2020|2024-07-17 01:11:13|         1|           Fire|       Primary Fire|                NULL|  Non Residential|Private Garden Shed |On land associate...|         NULL|              NW4|            0.0|20015780|         E09000003|              BARNET|              Barnet|      E05013643|             Hendon|             Hendon|     NULL|      NULL|         523650|          189450|       NULL|        NULL|London|               Hendon|                             267|                               Hendon|                             NULL|                                  NULL|                            1|                2|        2|               2|              678|       9|\n",
      "|000088-01012020|01 Jan 2020|   2020|2024-07-17 01:14:39|         1|           Fire|     Secondary Fire|                NULL|Outdoor Structure|Small refuse/rubb...|On land associate...|     DA15 9NB|             DA15|     1.00023E11|20100153|         E09000004|              BEXLEY|              Bexley|      E05011220|BLACKFEN & LAMORBEY|BLACKFEN & LAMORBEY|   546281|    174510|         546250|          174550|51.45069158| 0.103822653|London|               Bexley|                             319|                               Eltham|                             NULL|                                  NULL|                            1|                1|        1|               1|              339|       1|\n",
      "|000092-01012020|01 Jan 2020|   2020|2024-07-17 01:22:12|         1|           Fire|     Secondary Fire|                NULL|          Outdoor|       Loose refuse |Open land/water -...|       E3 3PP|               E3|      6651813.0|22700408|         E09000030|       TOWER HAMLETS|       Tower Hamlets|      E05009322|      Bromley South|      Bromley South|   537749|    182336|         537750|          182350|51.52315464| -0.01582857|London|               Poplar|                             732|                               Poplar|                             NULL|                                  NULL|                            1|                1|        1|               1|              339|       1|\n",
      "|000093-01012020|01 Jan 2020|   2020|2024-07-17 01:22:28|         1|           Fire|     Secondary Fire|                NULL|          Outdoor|Road surface/pave...|On land associate...|      HA8 6AT|              HA8|     1.00021E11|21202373|         E09000015|              HARROW|              Harrow|      E05013545|            Edgware|            Edgware|   518718|    189904|         518750|          189950|51.59549097|-0.287451794|London|             Stanmore|                             293|                             Stanmore|                             NULL|                                  NULL|                            1|                1|        1|               1|              339|       1|\n",
      "|000095-01012020|01 Jan 2020|   2020|2024-07-17 01:24:39|         1|Special Service|    Special Service|                 RTC|          Outdoor|Road surface/pave...|In street outside...|      SE5 7HY|              SE5|1.0009790932E10|22502765|         E09000028|           SOUTHWARK|           Southwark|      E05011096|   CAMBERWELL GREEN|   CAMBERWELL GREEN|   532421|    177288|         532450|          177250|51.47906184|-0.094480855|London|              Peckham|                             283|                              Peckham|                             NULL|                                  NULL|                            1|                1|        1|               1|              339|       1|\n",
      "|000098-01012020|01 Jan 2020|   2020|2024-07-17 01:26:26|         1|Special Service|    Special Service|Effecting entry/exit|Other Residential|        Hotel/motel |Correct incident ...|     SE10 8JA|             SE10|     2.00001E11|20800685|         E09000011|           GREENWICH|           Greenwich|      E05014081|     Greenwich Park|     Greenwich Park|   538025|    177303|         538050|          177350|51.47785868|-0.013825603|London|            Greenwich|                             149|                            Greenwich|                             NULL|                                  NULL|                            1|                1|        1|               1|              339|       1|\n",
      "|000101-01012020|01 Jan 2020|   2020|2024-07-17 01:27:06|         1|           Fire|     Secondary Fire|                NULL|          Outdoor|       Loose refuse |In street close t...|      E11 2PU|              E11|1.0023772126E10|22302675|         E09000026|           REDBRIDGE|           Redbridge|      E05011255|   WANSTEAD VILLAGE|   WANSTEAD VILLAGE|   540582|    188203|         540550|          188250|51.57517956| 0.027319193|London|          Leytonstone|                             338|                          Leytonstone|                             NULL|                                  NULL|                            1|                1|        1|               1|              339|       1|\n",
      "|000102-01012020|01 Jan 2020|   2020|2024-07-17 01:30:29|         1|           Fire|       Primary Fire|                NULL|         Dwelling|Converted Flat/Ma...|Correct incident ...|         NULL|              W11|            0.0|21701023|         E09000020|KENSINGTON AND CH...|Kensington And ch...|      E05009392|           COLVILLE|           COLVILLE|     NULL|      NULL|         524650|          180850|       NULL|        NULL|London|     North Kensington|                             155|                     North Kensington|                              160|                      North Kensington|                            2|                3|        3|               2|              678|       2|\n",
      "|000103-01012020|01 Jan 2020|   2020|2024-07-17 01:31:18|         1|           Fire|     Secondary Fire|                NULL|Outdoor Structure|Small refuse/rubb...|Correct incident ...|     SW16 2UA|             SW16|     1.00022E11|21900959|         E09000022|             LAMBETH|             Lambeth|      E05014116|    Streatham Wells|    Streatham Wells|   530827|    172009|         530850|          172050|51.43199491|-0.119370974|London|         West Norwood|                             371|                         West Norwood|                             NULL|                                  NULL|                            1|                1|        1|               1|              339|       1|\n",
      "|000105-01012020|01 Jan 2020|   2020|2024-07-17 01:35:32|         1|           Fire|       Primary Fire|                NULL|         Dwelling|House - single oc...|Correct incident ...|         NULL|              RM9|            0.0|19900235|         E09000002|BARKING AND DAGENHAM|Barking And dagenham|      E05014067|           Parsloes|           Parsloes|     NULL|      NULL|         548850|          185150|       NULL|        NULL|London|             Dagenham|                             339|                             Dagenham|                              379|                              Dagenham|                            1|                2|        2|               4|             1356|       1|\n",
      "|000106-01012020|01 Jan 2020|   2020|2024-07-17 01:38:54|         1|           Fire|     Secondary Fire|                NULL|Outdoor Structure|               Fence|In street outside...|      EN3 6UE|              EN3|    2.0712929E8|20702265|         E09000010|             ENFIELD|             Enfield|      E05013675|          Bullsmoor|          Bullsmoor|   535967|    199458|         535950|          199450|51.67744282|-0.034868332|London|              Enfield|                             308|                              Enfield|                             NULL|                                  NULL|                            1|                1|        1|               1|              339|       1|\n",
      "|000107-01012020|01 Jan 2020|   2020|2024-07-17 01:40:27|         1|Special Service|    Special Service|    Medical Incident|          Outdoor|Road surface/pave...|In street outside...|       E2 9LH|               E2|1.0015403509E10|22700252|         E09000030|       TOWER HAMLETS|       Tower Hamlets|      E05009331|        St. Peter's|        St. Peter's|   534973|    182908|         534950|          182950|51.52896103|-0.055596087|London|        Bethnal Green|                            NULL|                                 NULL|                             NULL|                                  NULL|                         NULL|             NULL|     NULL|            NULL|             NULL|       1|\n",
      "|000108-01012020|01 Jan 2020|   2020|2024-07-17 01:42:07|         1|           Fire|     Secondary Fire|                NULL|Outdoor Structure|            Barbecue|Correct incident ...|      W13 0ER|              W13|    1.2175821E7|20601555|         E09000009|              EALING|              Ealing|      E05013525|   Hanwell Broadway|   Hanwell Broadway|   516214|    180453|         516250|          180450| 51.5110631|  -0.3267145|London|               Ealing|                             241|                               Ealing|                             NULL|                                  NULL|                            1|                1|        1|               1|              339|       1|\n",
      "|000109-01012020|01 Jan 2020|   2020|2024-07-17 01:44:34|         1|Special Service|    Special Service|                 RTC|     Road Vehicle|                Car |In street outside...|      SE8 4AA|              SE8|     1.00023E11|22000328|         E09000023|            LEWISHAM|            Lewisham|      E05013719|           Deptford|           Deptford|   537192|    177112|         537150|          177150|51.47634469|-0.025878936|London|             Deptford|                             260|                             Deptford|                             NULL|                                  NULL|                            1|                1|        1|               1|              339|       1|\n",
      "|000110-01012020|01 Jan 2020|   2020|2024-07-17 01:45:27|         1|           Fire|       Primary Fire|                NULL|         Dwelling|Purpose Built Fla...|Correct incident ...|         NULL|              RM6|            0.0|19900275|         E09000002|BARKING AND DAGENHAM|Barking And dagenham|      E05014058|     Chadwell Heath|     Chadwell Heath|     NULL|      NULL|         548250|          189150|       NULL|        NULL|London|             Dagenham|                             338|                              Romford|                              489|                                Ilford|                            2|                3|        3|               1|              339|       2|\n",
      "+---------------+-----------+-------+-------------------+----------+---------------+-------------------+--------------------+-----------------+--------------------+--------------------+-------------+-----------------+---------------+--------+------------------+--------------------+--------------------+---------------+-------------------+-------------------+---------+----------+---------------+----------------+-----------+------------+------+---------------------+--------------------------------+-------------------------------------+---------------------------------+--------------------------------------+-----------------------------+-----------------+---------+----------------+-----------------+--------+\n",
      "only showing top 20 rows\n",
      "\n"
     ]
    }
   ],
   "source": [
    "#part1: 3  Given a range of hours (for example between 1-2 hours), show the user all incidents where the LFB spent this much time dealing with it.\n",
    "# Define the hours of interest as a list\n",
    "hours_of_interest = [1, 2]\n",
    "\n",
    "# Filter DataFrame based on the HourOfCall and IncidentGroup conditions\n",
    "df_time_spend = df.filter(\n",
    "    (col(\"HourOfCall\").isin(hours_of_interest)) &\n",
    "    (col(\"IncidentGroup\") != \"False Alarm\")\n",
    ")\n",
    "\n",
    "df_time_spend.show()"
   ]
  },
  {
   "cell_type": "code",
   "execution_count": 7,
   "metadata": {},
   "outputs": [
    {
     "name": "stderr",
     "output_type": "stream",
     "text": [
      "[Stage 7:>                                                          (0 + 1) / 1]\r"
     ]
    },
    {
     "name": "stdout",
     "output_type": "stream",
     "text": [
      "Number of incidents is  9077 in 2021 where there were at least 2 fire pumps deployed \n"
     ]
    },
    {
     "name": "stderr",
     "output_type": "stream",
     "text": [
      "                                                                                \r"
     ]
    }
   ],
   "source": [
    "#part1: 4 Calculate the number of incidents in 2021 where there were at least 2 fire pumps deployed.\n",
    "# Filter DataFrame where PumpCount > 2\n",
    "df_condition = df.filter((col(\"PumpCount\") >2 ) & (col(\"CalYear\") == 2021)) # >= 2 应该要用一个or\n",
    "\n",
    "# Count distinct PumpCount values\n",
    "IncidentNumber = df_condition.select(\"IncidentNumber\").distinct().count()\n",
    "print(f\"Number of incidents is  {IncidentNumber} in 2021 where there were at least 2 fire pumps deployed \")\n"
   ]
  },
  {
   "cell_type": "code",
   "execution_count": 8,
   "metadata": {},
   "outputs": [
    {
     "name": "stdout",
     "output_type": "stream",
     "text": [
      "+-----------------------------------------------------+-------------+\n",
      "|PropertyType                                         |TotalNumCalls|\n",
      "+-----------------------------------------------------+-------------+\n",
      "|Purpose Built Flats/Maisonettes - 4 to 9 storeys     |17451        |\n",
      "|House - single occupancy                             |14676        |\n",
      "|Purpose Built Flats/Maisonettes - Up to 3 storeys    |11608        |\n",
      "|Car                                                  |7377         |\n",
      "|Self contained Sheltered Housing                     |6097         |\n",
      "|Purpose Built Flats/Maisonettes - 10 or more storeys |4977         |\n",
      "|Converted Flat/Maisonettes - 3 or more storeys       |4501         |\n",
      "|Converted Flat/Maisonette - Up to 2 storeys          |3379         |\n",
      "|Purpose built office                                 |3221         |\n",
      "|Domestic garden (vegetation not equipment)           |2665         |\n",
      "|Single shop                                          |2635         |\n",
      "|Small refuse/rubbish container                       |2401         |\n",
      "|Retirement/Old Persons Home                          |2325         |\n",
      "|Loose refuse                                         |2017         |\n",
      "|Multiple Vehicles                                    |1884         |\n",
      "|Road surface/pavement                                |1722         |\n",
      "|Tree scrub                                           |1533         |\n",
      "|Infant/Primary school                                |1450         |\n",
      "|Private Garden Shed                                  |1343         |\n",
      "|Nursing/Care Home/Hospice                            |1199         |\n",
      "+-----------------------------------------------------+-------------+\n",
      "only showing top 20 rows\n",
      "\n"
     ]
    }
   ],
   "source": [
    "#part1:5.Which type of property had the most incident callouts during 2022?\n",
    "\n",
    "\n",
    "from pyspark.sql.functions import col\n",
    "from pyspark.sql import functions as F\n",
    "# Filter the DataFrame to include only data for the year 2020\n",
    "df_2022 = df.filter(col('CalYear') == 2022)\n",
    "# property \n",
    "df_Property = df_2020.groupBy('PropertyType').agg(F.sum('NumCalls').alias('TotalNumCalls'))\n",
    "df_Property = df_Property.orderBy(F.col('TotalNumCalls').desc())\n",
    "df_Property.show(truncate=False) #这里printresult 真的要用print\n"
   ]
  },
  {
   "cell_type": "code",
   "execution_count": 9,
   "metadata": {},
   "outputs": [
    {
     "name": "stderr",
     "output_type": "stream",
     "text": [
      "24/07/17 17:57:53 WARN GarbageCollectionMetrics: To enable non-built-in garbage collector(s) List(G1 Concurrent GC), users should configure it(them) to spark.eventLog.gcMetrics.youngGenerationGarbageCollectors or spark.eventLog.gcMetrics.oldGenerationGarbageCollectors\n"
     ]
    }
   ],
   "source": [
    "# Using an appropriate Python library, \n",
    "# draw a graph showing the trend of incident callouts on the road between 2020 and 2022. \n",
    "# Make sure to define how you interpret a road incident based on the dataset."
   ]
  }
 ],
 "metadata": {
  "kernelspec": {
   "display_name": "Python 3 (ipykernel)",
   "language": "python",
   "name": "python3"
  },
  "language_info": {
   "codemirror_mode": {
    "name": "ipython",
    "version": 3
   },
   "file_extension": ".py",
   "mimetype": "text/x-python",
   "name": "python",
   "nbconvert_exporter": "python",
   "pygments_lexer": "ipython3",
   "version": "3.12.0"
  }
 },
 "nbformat": 4,
 "nbformat_minor": 4
}
