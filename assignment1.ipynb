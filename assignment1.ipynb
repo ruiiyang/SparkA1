{
 "cells": [
  {
   "cell_type": "code",
   "execution_count": 2,
   "metadata": {},
   "outputs": [
    {
     "name": "stdout",
     "output_type": "stream",
     "text": [
      "Requirement already satisfied: pyspark in /Library/Frameworks/Python.framework/Versions/3.10/lib/python3.10/site-packages (3.5.1)\n",
      "Requirement already satisfied: py4j==0.10.9.7 in /Library/Frameworks/Python.framework/Versions/3.10/lib/python3.10/site-packages (from pyspark) (0.10.9.7)\n",
      "\u001b[33mWARNING: You are using pip version 22.0.4; however, version 24.0 is available.\n",
      "You should consider upgrading via the '/usr/local/bin/python3.10 -m pip install --upgrade pip' command.\u001b[0m\u001b[33m\n",
      "\u001b[0mNote: you may need to restart the kernel to use updated packages.\n"
     ]
    }
   ],
   "source": [
    "pip install pyspark"
   ]
  },
  {
   "cell_type": "code",
   "execution_count": 1,
   "metadata": {},
   "outputs": [
    {
     "name": "stderr",
     "output_type": "stream",
     "text": [
      "24/04/23 18:30:27 WARN Utils: Your hostname, RUIIs-MacBook-Pro.local resolves to a loopback address: 127.0.0.1; using 172.20.10.5 instead (on interface en0)\n",
      "24/04/23 18:30:27 WARN Utils: Set SPARK_LOCAL_IP if you need to bind to another address\n",
      "Setting default log level to \"WARN\".\n",
      "To adjust logging level use sc.setLogLevel(newLevel). For SparkR, use setLogLevel(newLevel).\n",
      "24/04/23 18:30:28 WARN NativeCodeLoader: Unable to load native-hadoop library for your platform... using builtin-java classes where applicable\n"
     ]
    }
   ],
   "source": [
    "#initiate spark instance \n",
    "import pyspark\n",
    "from pyspark.sql import SparkSession\n",
    "#Create SparkSession\n",
    "spark = SparkSession.builder \\\n",
    "    .master(\"local\") \\\n",
    "    .appName(\"SparkApp\") \\\n",
    "    .getOrCreate()\n",
    "\n"
   ]
  },
  {
   "cell_type": "code",
   "execution_count": 3,
   "metadata": {},
   "outputs": [
    {
     "name": "stderr",
     "output_type": "stream",
     "text": [
      "24/04/23 18:30:41 WARN SparkStringUtils: Truncated the string representation of a plan since it was too large. This behavior can be adjusted by setting 'spark.sql.debug.maxToStringFields'.\n"
     ]
    },
    {
     "name": "stdout",
     "output_type": "stream",
     "text": [
      "+---------------+-----------+-------+-------------------+----------+---------------+--------------------+--------------------+-----------------+--------------------+--------------------+-------------+-----------------+---------------+--------+------------------+--------------------+--------------------+---------------+--------------------+--------------------+---------+----------+---------------+----------------+-----------+------------+------+---------------------+--------------------------------+-------------------------------------+---------------------------------+--------------------------------------+-----------------------------+-----------------+---------+----------------+-----------------+--------+\n",
      "| IncidentNumber| DateOfCall|CalYear|         TimeOfCall|HourOfCall|  IncidentGroup| StopCodeDescription|  SpecialServiceType| PropertyCategory|        PropertyType|    AddressQualifier|Postcode_full|Postcode_district|           UPRN|    USRN|IncGeo_BoroughCode|  IncGeo_BoroughName|          ProperCase|IncGeo_WardCode|     IncGeo_WardName|  IncGeo_WardNameNew|Easting_m|Northing_m|Easting_rounded|Northing_rounded|   Latitude|   Longitude|   FRS|IncidentStationGround|FirstPumpArriving_AttendanceTime|FirstPumpArriving_DeployedFromStation|SecondPumpArriving_AttendanceTime|SecondPumpArriving_DeployedFromStation|NumStationsWithPumpsAttending|NumPumpsAttending|PumpCount|PumpHoursRoundUp|Notional Cost (£)|NumCalls|\n",
      "+---------------+-----------+-------+-------------------+----------+---------------+--------------------+--------------------+-----------------+--------------------+--------------------+-------------+-----------------+---------------+--------+------------------+--------------------+--------------------+---------------+--------------------+--------------------+---------+----------+---------------+----------------+-----------+------------+------+---------------------+--------------------------------+-------------------------------------+---------------------------------+--------------------------------------+-----------------------------+-----------------+---------+----------------+-----------------+--------+\n",
      "|000001-01012020|01 Jan 2020|   2020|2024-04-23 00:02:11|         0|Special Service|     Special Service|        Lift Release|         Dwelling|Purpose Built Fla...|Within same building|         NULL|              SE1|            0.0|21901000|         E09000022|             LAMBETH|             Lambeth|      E05014118|Waterloo & South ...|Waterloo & South ...|     NULL|      NULL|         531050|          179550|       NULL|        NULL|London|              Lambeth|                            NULL|                                 NULL|                             NULL|                                  NULL|                            1|                1|        1|               1|              339|       3|\n",
      "|000003-01012020|01 Jan 2020|   2020|2024-04-23 00:06:30|         0|           Fire|        Primary Fire|                NULL|  Non Residential|Private Garden Shed |On land associate...|         NULL|              UB8|            0.0|21402055|         E09000017|          HILLINGDON|          Hillingdon|      E05013566|     Colham & Cowley|     Colham & Cowley|     NULL|      NULL|         506750|          181550|       NULL|        NULL|London|           Hillingdon|                             324|                           Hillingdon|                              292|                            Hillingdon|                            1|                2|        2|               1|              339|       3|\n",
      "|000004-01012020|01 Jan 2020|   2020|2024-04-23 00:07:07|         0|Special Service|     Special Service|        Lift Release|         Dwelling|Purpose Built Fla...|Within same building|         NULL|               N6|            0.0|21106425|         E09000014|            HARINGEY|            Haringey|      E05013592|            Highgate|            Highgate|     NULL|      NULL|         528250|          187850|       NULL|        NULL|London|              Hornsey|                            NULL|                                 NULL|                             NULL|                                  NULL|                            1|                1|        1|               1|              339|       1|\n",
      "|000008-01012020|01 Jan 2020|   2020|2024-04-23 00:11:05|         0|    False Alarm|                 AFA|                NULL|  Non Residential|  Telephone exchange|Correct incident ...|      TW9 1LW|              TW9|1.0002252088E10|22403714|         E09000027|RICHMOND UPON THAMES|Richmond Upon thames|      E05013786|      South Richmond|      South Richmond|   518296|    174887|         518250|          174850|51.46061414|-0.298579113|London|             Richmond|                             195|                             Richmond|                             NULL|                                  NULL|                            1|                1|        1|               1|              339|       1|\n",
      "|000009-01012020|01 Jan 2020|   2020|2024-04-23 00:11:16|         0|           Fire|      Secondary Fire|                NULL|Outdoor Structure|Small refuse/rubb...|On land associate...|       N9 8NB|               N9|   2.07090844E8|20703225|         E09000010|             ENFIELD|             Enfield|      E05013685|      Lower Edmonton|      Lower Edmonton|   535304|    194202|         535350|          194250|51.63037025| -0.04649164|London|             Edmonton|                             426|                             Edmonton|                             NULL|                                  NULL|                            1|                1|        1|               1|              339|       1|\n",
      "|000011-01012020|01 Jan 2020|   2020|2024-04-23 00:12:02|         0|    False Alarm|                 AFA|                NULL|Other Residential|Retirement/Old Pe...|Within same building|     SW17 9JH|             SW17|    1.2103672E8|22903376|         E09000032|          WANDSWORTH|          Wandsworth|      E05014024|    Tooting Broadway|    Tooting Broadway|   527716|    171174|         527750|          171150|51.42519473|-0.164394547|London|              Tooting|                             249|                              Tooting|                              255|                               Tooting|                            1|                2|        2|               2|              678|       2|\n",
      "|000015-01012020|01 Jan 2020|   2020|2024-04-23 00:12:52|         0|    False Alarm|False alarm - Goo...|                NULL|          Outdoor|Road surface/pave...|In street outside...|      KT4 8JS|              KT4|  5.870005182E9|22605530|         E09000029|              SUTTON|              Sutton|      E05013772|Worcester Park North|Worcester Park North|   522816|    165937|         522850|          165950|51.37921194|-0.236645581|London|               Sutton|                             526|                               Sutton|                             NULL|                                  NULL|                            1|                1|        1|               1|              339|       1|\n",
      "|000016-01012020|01 Jan 2020|   2020|2024-04-23 00:15:29|         0|Special Service|     Special Service|Effecting entry/exit|         Dwelling|Purpose Built Fla...|Correct incident ...|         NULL|              SE1|            0.0|22501130|         E09000028|           SOUTHWARK|           Southwark|      E05011095|  BOROUGH & BANKSIDE|  BOROUGH & BANKSIDE|     NULL|      NULL|         532150|          179650|       NULL|        NULL|London|              Dowgate|                             472|                        Old Kent Road|                             NULL|                                  NULL|                            1|                1|        1|               1|              339|       1|\n",
      "|000017-01012020|01 Jan 2020|   2020|2024-04-23 00:15:59|         0|           Fire|        Primary Fire|                NULL|Outdoor Structure|    Outdoor storage |Correct incident ...|      E10 5TU|              E10|1.0009141211E10|22851700|         E09000031|      WALTHAM FOREST|      Waltham Forest|      E05013896|              Leyton|              Leyton|   537456|    186986|         537450|          186950|51.56501123|-0.018229009|London|               Leyton|                             281|                               Leyton|                              508|                           Leytonstone|                            2|                2|        2|               2|              678|       2|\n",
      "|000020-01012020|01 Jan 2020|   2020|2024-04-23 00:17:15|         0|    False Alarm|                 AFA|                NULL|         Dwelling|House - single oc...|Correct incident ...|         NULL|              TW3|            0.0|21500680|         E09000018|            HOUNSLOW|            Hounslow|      E05013620|    Hounslow Central|    Hounslow Central|     NULL|      NULL|         513750|          175950|       NULL|        NULL|London|               Heston|                             393|                               Heston|                              397|                                Heston|                            1|                2|        2|               1|              339|       1|\n",
      "|000023-01012020|01 Jan 2020|   2020|2024-04-23 00:18:25|         0|           Fire|        Primary Fire|                NULL|         Dwelling|Converted Flat/Ma...|Correct incident ...|         NULL|               W9|            0.0| 8400332|         E09000033|         WESTMINSTER|         Westminster|      E05013804|        Queen's Park|        Queen's Park|     NULL|      NULL|         524750|          182850|       NULL|        NULL|London|     North Kensington|                             289|                     North Kensington|                              360|                            Paddington|                            2|                2|        2|               1|              339|       1|\n",
      "|000025-01012020|01 Jan 2020|   2020|2024-04-23 00:19:11|         0|    False Alarm|                 AFA|                NULL|  Non Residential|Purpose built off...|Correct incident ...|      W1S 4HS|              W1S|     1.00023E11| 8401254|         E09000033|         WESTMINSTER|         Westminster|      E05013808|            West End|            West End|   529030|    180593|         529050|          180550| 51.5095435|  -0.1420799|London|                 Soho|                             537|                                 Soho|                             NULL|                                  NULL|                            1|                1|        1|            NULL|             NULL|       2|\n",
      "|000026-01012020|01 Jan 2020|   2020|2024-04-23 00:20:19|         0|    False Alarm|                 AFA|                NULL|  Non Residential|      Other retail  |Correct incident ...|      W1S 1RR|              W1S|     1.00023E11| 8401459|         E09000033|         WESTMINSTER|         Westminster|      E05013808|            West End|            West End|   528780|    181042|         528750|          181050|51.51363962|-0.145506291|London|                 Soho|                             498|                                 Soho|                             NULL|                                  NULL|                            1|                1|        1|               1|              339|       1|\n",
      "|000027-01012020|01 Jan 2020|   2020|2024-04-23 00:21:05|         0|Special Service|     Special Service|                 RTC|     Road Vehicle|                Car |On land associate...|     EC1V 9EY|             EC1V|     1.00023E11|20900761|         E09000012|             HACKNEY|             Hackney|      E05009378|         HOXTON WEST|         HOXTON WEST|   532905|    182575|         532950|          182550|51.52646063|-0.085513925|London|           Shoreditch|                               2|                           Shoreditch|                             NULL|                                  NULL|                            1|                1|        1|               1|              339|       1|\n",
      "|000028-01012020|01 Jan 2020|   2020|2024-04-23 00:22:26|         0|    False Alarm|                 AFA|                NULL|  Non Residential|  Telephone exchange|Correct incident ...|     SW1A 2DB|             SW1A|1.0033567667E10| 8400739|         E09000033|         WESTMINSTER|         Westminster|      E05013806|         St. James's|         St. James's|   530123|    180304|         530150|          180350|51.50670263|-0.126435744|London|                 Soho|                            1116|                                 Soho|                             NULL|                                  NULL|                            1|                1|        1|               2|              678|       1|\n",
      "|000029-01012020|01 Jan 2020|   2020|2024-04-23 00:22:43|         0|    False Alarm|                 AFA|                NULL|         Dwelling|Self contained Sh...|Correct incident ...|         NULL|              N15|            0.0|21106391|         E09000014|            HARINGEY|            Haringey|      E05013601|   Tottenham Central|   Tottenham Central|     NULL|      NULL|         533350|          189550|       NULL|        NULL|London|            Tottenham|                             237|                            Tottenham|                              246|                             Tottenham|                            1|                2|        2|               1|              339|       1|\n",
      "|000030-01012020|01 Jan 2020|   2020|2024-04-23 00:23:01|         0|    False Alarm|False alarm - Goo...|                NULL|         Dwelling|Purpose Built Fla...|Within same building|         NULL|              SW6|            0.0|21000509|         E09000013|HAMMERSMITH AND F...|Hammersmith And f...|      E05013742|              Lillie|              Lillie|     NULL|      NULL|         524750|          177550|       NULL|        NULL|London|               Fulham|                             192|                               Fulham|                              274|                           Hammersmith|                            5|                5|        5|               2|              678|       1|\n",
      "|000031-01012020|01 Jan 2020|   2020|2024-04-23 00:23:09|         0|           Fire|      Secondary Fire|                NULL|          Outdoor|Domestic garden (...|On land associate...|      E17 4SG|              E17|     1.00023E11|22846500|         E09000031|      WALTHAM FOREST|      Waltham Forest|      E05013893|          Hoe Street|          Hoe Street|   537462|    189706|         537450|          189750|51.58945291|-0.017082149|London|          Walthamstow|                             160|                          Walthamstow|                              185|                           Walthamstow|                            1|                2|        2|               2|              678|       1|\n",
      "|000032-01012020|01 Jan 2020|   2020|2024-04-23 00:24:13|         0|Special Service|     Special Service|                 RTC|          Outdoor|Road surface/pave...|In street close t...|       N3 2RY|               N3|   2.00162757E8|20002200|         E09000003|              BARNET|              Barnet|      E05013648|       West Finchley|       West Finchley|   525226|    190743|         525250|          190750|51.60162607|-0.193245331|London|             Finchley|                             673|                             Finchley|                             NULL|                                  NULL|                            1|                1|        1|               1|              339|       1|\n",
      "|000033-01012020|01 Jan 2020|   2020|2024-04-23 00:25:14|         0|    False Alarm|                 AFA|                NULL|  Non Residential| Sports/Social club |Correct incident ...|     SW1Y 5EW|             SW1Y|     1.00023E11| 8401211|         E09000033|         WESTMINSTER|         Westminster|      E05013806|         St. James's|         St. James's|   529641|    180281|         529650|          180250|51.50660028|-0.133384577|London|                 Soho|                            1006|                     North Kensington|                             NULL|                                  NULL|                            1|                1|        1|               1|              339|       2|\n",
      "+---------------+-----------+-------+-------------------+----------+---------------+--------------------+--------------------+-----------------+--------------------+--------------------+-------------+-----------------+---------------+--------+------------------+--------------------+--------------------+---------------+--------------------+--------------------+---------+----------+---------------+----------------+-----------+------------+------+---------------------+--------------------------------+-------------------------------------+---------------------------------+--------------------------------------+-----------------------------+-----------------+---------+----------------+-----------------+--------+\n",
      "only showing top 20 rows\n",
      "\n"
     ]
    }
   ],
   "source": [
    "#load all csv in this same path\n",
    "df= spark.read.format(\"csv\").option(\"header\", True).option(\"inferSchema\", True).load(\"./lab_dataset (1).csv\")\n",
    "df.show()"
   ]
  },
  {
   "cell_type": "code",
   "execution_count": 4,
   "metadata": {},
   "outputs": [
    {
     "name": "stderr",
     "output_type": "stream",
     "text": [
      "24/04/23 18:30:44 WARN GarbageCollectionMetrics: To enable non-built-in garbage collector(s) List(G1 Concurrent GC), users should configure it(them) to spark.eventLog.gcMetrics.youngGenerationGarbageCollectors or spark.eventLog.gcMetrics.oldGenerationGarbageCollectors\n",
      "[Stage 3:>                                                          (0 + 1) / 1]\r"
     ]
    },
    {
     "name": "stdout",
     "output_type": "stream",
     "text": [
      "+----------------------+-------------+\n",
      "|IncGeo_BoroughName    |sum(NumCalls)|\n",
      "+----------------------+-------------+\n",
      "|HAMMERSMITH AND FULHAM|3285         |\n",
      "|CROYDON               |5638         |\n",
      "|GREENWICH             |3893         |\n",
      "|TOWER HAMLETS         |5513         |\n",
      "|CAMDEN                |5009         |\n",
      "|ENFIELD               |4387         |\n",
      "|HOUNSLOW              |3895         |\n",
      "|BEXLEY                |3240         |\n",
      "|LEWISHAM              |4755         |\n",
      "|REDBRIDGE             |3424         |\n",
      "|CITY OF LONDON        |1040         |\n",
      "|LAMBETH               |5224         |\n",
      "|HARROW                |2176         |\n",
      "|WESTMINSTER           |8283         |\n",
      "|ISLINGTON             |3934         |\n",
      "|RICHMOND UPON THAMES  |2128         |\n",
      "|BROMLEY               |3806         |\n",
      "|SOUTHWARK             |5595         |\n",
      "|HARINGEY              |4243         |\n",
      "|WALTHAM FOREST        |3725         |\n",
      "+----------------------+-------------+\n",
      "only showing top 20 rows\n",
      "\n"
     ]
    },
    {
     "name": "stderr",
     "output_type": "stream",
     "text": [
      "                                                                                \r"
     ]
    }
   ],
   "source": [
    "\n",
    "from pyspark.sql.functions import col\n",
    "# Filter the DataFrame to include only data for the year 2020\n",
    "df_2020 = df.filter(col('CalYear') == 2020)\n",
    "# Group the data by 'IncGeo_BoroughName' and sum the 'NumbCalls' column\n",
    "df_Borough_call = df_2020.groupBy('IncGeo_BoroughName').sum('NumCalls')\n",
    "df_Borough_call.show(truncate=False)"
   ]
  },
  {
   "cell_type": "code",
   "execution_count": null,
   "metadata": {},
   "outputs": [],
   "source": [
    "#Given a range of hours (for example between 1-2 hours), show the user all incidents where the LFB spent this much time dealing with it."
   ]
  },
  {
   "cell_type": "code",
   "execution_count": null,
   "metadata": {},
   "outputs": [],
   "source": []
  },
  {
   "cell_type": "code",
   "execution_count": 14,
   "metadata": {},
   "outputs": [
    {
     "name": "stderr",
     "output_type": "stream",
     "text": [
      "[Stage 15:>                                                         (0 + 1) / 1]\r"
     ]
    },
    {
     "name": "stdout",
     "output_type": "stream",
     "text": [
      "+-----------------------------------------------------+-------------+\n",
      "|PropertyType                                         |TotalNumCalls|\n",
      "+-----------------------------------------------------+-------------+\n",
      "|Purpose Built Flats/Maisonettes - 4 to 9 storeys     |17451        |\n",
      "|House - single occupancy                             |14676        |\n",
      "|Purpose Built Flats/Maisonettes - Up to 3 storeys    |11608        |\n",
      "|Car                                                  |7377         |\n",
      "|Self contained Sheltered Housing                     |6097         |\n",
      "|Purpose Built Flats/Maisonettes - 10 or more storeys |4977         |\n",
      "|Converted Flat/Maisonettes - 3 or more storeys       |4501         |\n",
      "|Converted Flat/Maisonette - Up to 2 storeys          |3379         |\n",
      "|Purpose built office                                 |3221         |\n",
      "|Domestic garden (vegetation not equipment)           |2665         |\n",
      "|Single shop                                          |2635         |\n",
      "|Small refuse/rubbish container                       |2401         |\n",
      "|Retirement/Old Persons Home                          |2325         |\n",
      "|Loose refuse                                         |2017         |\n",
      "|Multiple Vehicles                                    |1884         |\n",
      "|Road surface/pavement                                |1722         |\n",
      "|Tree scrub                                           |1533         |\n",
      "|Infant/Primary school                                |1450         |\n",
      "|Private Garden Shed                                  |1343         |\n",
      "|Nursing/Care Home/Hospice                            |1199         |\n",
      "+-----------------------------------------------------+-------------+\n",
      "only showing top 20 rows\n",
      "\n"
     ]
    },
    {
     "name": "stderr",
     "output_type": "stream",
     "text": [
      "                                                                                \r"
     ]
    }
   ],
   "source": [
    "#Which type of property had the most incident callouts during 2022?\n",
    "\n",
    "from pyspark.sql.functions import col\n",
    "from pyspark.sql import functions as F\n",
    "# Filter the DataFrame to include only data for the year 2020\n",
    "df_2022 = df.filter(col('CalYear') == 2022)\n",
    "# property \n",
    "df_Property = df_2020.groupBy('PropertyType').agg(F.sum('NumCalls').alias('TotalNumCalls'))\n",
    "df_Property = df_Property.orderBy(F.col('TotalNumCalls').desc())\n",
    "df_Property.show(truncate=False)\n"
   ]
  }
 ],
 "metadata": {
  "kernelspec": {
   "display_name": "Python 3",
   "language": "python",
   "name": "python3"
  },
  "language_info": {
   "codemirror_mode": {
    "name": "ipython",
    "version": 3
   },
   "file_extension": ".py",
   "mimetype": "text/x-python",
   "name": "python",
   "nbconvert_exporter": "python",
   "pygments_lexer": "ipython3",
   "version": "3.12.0"
  }
 },
 "nbformat": 4,
 "nbformat_minor": 2
}
